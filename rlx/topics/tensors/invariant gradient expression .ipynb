{
 "cells": [
  {
   "cell_type": "code",
   "execution_count": 94,
   "metadata": {
    "collapsed": true
   },
   "outputs": [],
   "source": [
    "import numpy as np\n",
    "import matplotlib.pyplot as plt\n",
    "import sympy as sy\n",
    "from IPython.display import display, Math, Latex\n",
    "%matplotlib inline\n",
    "\n",
    "def show_latex(s):\n",
    "    \"\"\"\n",
    "       example usage:\n",
    "       \n",
    "       > a,b=sy.symbols(\"a b\")\n",
    "       > expr = a+b\n",
    "       > show_latex([[\"x =\", expr], [\"y =\", expr**2]])\n",
    "\n",
    "       displays in latex:\n",
    "\n",
    "            x = a+b\n",
    "            y = (a+b)^2\n",
    "\n",
    "    \"\"\"    \n",
    "    \n",
    "    l = \"\\\\begin{align}\\n\"\n",
    "    for i in s:\n",
    "        l+=i[0]+\" \\,&\\, \"+sy.latex(i[1])+\"\\\\\\\\ \\n\"\n",
    "    l += \"\\\\end{align}\"\n",
    "    return Latex(l)\n",
    "\n",
    "def build_metric_tensors(basis, only_covariant=False):\n",
    "    r = sy.Matrix([ [0]*len(basis)]*len(basis))\n",
    "    for i, b1 in enumerate(basis):\n",
    "        for j, b2 in enumerate(basis):\n",
    "            r[i,j] = b1.dot(b2).simplify()\n",
    "    if only_covariant:\n",
    "        return r\n",
    "    else:\n",
    "        return r, r.inv()\n",
    "\n",
    "def build_invariant_gradient(s, Z, Z_i, ZEij):\n",
    "    grad = sy.Matrix([s.diff(i) for i in Z])\n",
    "    k = sy.Matrix(Z_i).T * (ZEij*grad)\n",
    "    k.simplify()\n",
    "    return k   \n",
    "\n",
    "def show_invariant_gradient(Zu, Zp, RZu, RZp):\n",
    "\n",
    "    latex =([[\"\\\\textbf{position vectors}\",\"\"], [\"\\mathbf{R}(Z) =\", RZu], [\"\\mathbf{R}(Z') =\", RZp], [\"\", \"\"]])\n",
    "    # the transformation equations\n",
    "    fZu = RZp\n",
    "\n",
    "    latex += [[\"\\\\textbf{transformation equations:}\", \"\"]]\n",
    "    latex += [[\"Z^i(Z'):\", \"\"]]+[[\"&\"+sy.latex(a(sy.Matrix(Zp).T))+\"=\",b] for a,b in zip(Zu, fZu)]\n",
    "\n",
    "    Zu_i = build_covbasis(RZu, Zu)\n",
    "    Zp_i = build_covbasis(RZp, Zp)\n",
    "\n",
    "    latex +=   [[\"\\\\textbf{covariant basis:}\", \"\"]]+\\\n",
    "               [[\"\\mathbf{Z_%d} = \\mathbf{Z_%s} = \"%(c,Zu[c]), i] for c,i in enumerate(Zu_i)]+\\\n",
    "               [[\"\", \"\"]] +\\\n",
    "               [[\"\\mathbf{Z_{%d'}} = \\mathbf{Z_{%s'}} = \"%(c,Zp[c]), i] for c,i in enumerate(Zp_i)]\n",
    "\n",
    "\n",
    "    Zu_ij, ZuEij = build_metric_tensors(Zu_i)\n",
    "    latex += [[\"\", \"\"], [\"\\\\textbf{metric tensors}\", \"(covariant\\;contravariant\\;primed\\;unprimed)\"]]\n",
    "    latex += [[\"Z_{ij} = \", Zu_ij], [\"Z^{ij} = \", ZuEij]]\n",
    "\n",
    "    Zp_ij, ZpEij = build_metric_tensors(Zp_i)\n",
    "    latex += [[\"Z'_{ij} = \", Zp_ij], [\"Z'^{ij} = \", ZpEij]]\n",
    "\n",
    "    s = sum([i**2 for i in Zu])\n",
    "    igu = build_invariant_gradient(s, Zu, Zu_i, ZuEij)\n",
    "    latex += [[\"\", \"\"],[\"\\\\textbf{scalar function}\", \"in\\;unprimed\\;system\"]]\n",
    "    latex += [[\"F\"+sy.latex(sy.Matrix(Zu).T)+\"=\", s]]\n",
    "    latex += [[\"partial\\;derivatives\", sy.Matrix([s.diff(i) for i in Zu])]]\n",
    "    latex += [[\"gradient\", igu]]\n",
    "\n",
    "    s = sum([i**2 for i in fZu])\n",
    "    igp = build_invariant_gradient(s, Zp, Zp_i, ZpEij)\n",
    "    latex += [[\"\", \"\"],[\"\\\\textbf{scalar function}\", \"in\\;primed\\;system\"]]\n",
    "    latex += [[\"F\"+sy.latex(sy.Matrix(Zp).T)+\"=\", s]]\n",
    "    latex += [[\"partial\\; derivatives\", sy.Matrix([s.diff(i) for i in Zp])]]\n",
    "    latex += [[\"gradient\", igp]]\n",
    "    k = igu-igp.subs({b:a for a,b in zip(Zu, fZu)})\n",
    "    k.simplify()\n",
    "    latex += [[\"check\\;with\\;subst\\;(must\\;be\\;0)\", k]]\n",
    "\n",
    "    return show_latex(latex)\n",
    "\n",
    "def plot_2D_transformation_grid(Zp, RZp, axis_equal=False):\n",
    "    assert len(Zp)==2\n",
    "    _f = sy.lambdify(Zp, RZp, \"numpy\")\n",
    "\n",
    "    z0_range = [0,6]\n",
    "    z1_range = [0,6]\n",
    "\n",
    "    z0_lines = range(int(z0_range[0]), int(z0_range[1])+1)\n",
    "    z1_lines = range(int(z1_range[0]), int(z1_range[1])+1)\n",
    "\n",
    "    for x in z0_lines:\n",
    "        y = np.linspace(z0_range[0], z0_range[1], 100)    \n",
    "        eucl_coords = np.r_[[_f(i,j) for i,j in zip([x]*len(y), y)]][:,0,:]\n",
    "        plt.plot(eucl_coords[:,0], eucl_coords[:,1], color=\"red\", alpha=.7)\n",
    "    for y in z1_lines:\n",
    "        x = np.linspace(z1_range[0], z1_range[1], 100)    \n",
    "        eucl_coords = np.r_[[_f(i,j) for i,j in zip(x, [y]*len(x))]][:,0,:]\n",
    "        plt.plot(eucl_coords[:,0], eucl_coords[:,1], color=\"red\", alpha=.7)\n",
    "\n",
    "    if axis_equal:\n",
    "        plt.axis(\"equal\")\n",
    "    plt.grid()\n",
    "\n",
    "build_covbasis = lambda RZ, Z: [RZ.diff(i) for i in Z]"
   ]
  },
  {
   "cell_type": "markdown",
   "metadata": {},
   "source": [
    "the Euclidean space is the physical space where objects live and has measure unit (for instance, the meter)\n",
    "\n",
    "$\\mathbf{R}$ is the **coordinate-less** position vector (just an arrow, a geometric object)\n",
    "\n",
    "### 1. Define position vector as function of coordinates\n",
    "\n",
    "$\\mathbf{R}(Z)$ is the position vector as a function of coordinates $Z$.\n",
    "\n",
    "**Cartesian orthonormal coordinates**:  (this corresponds exactly to the Euclidean space)\n",
    "\n",
    "$$\\mathbf{R}(Z) = \\mathbf{R}(x,y) =(x,y)$$\n",
    "\n",
    "**Polar coordinates**: \n",
    "\n",
    "$$\\mathbf{R}(Z') = \\mathbf{R}(r,\\theta)=(r \\cos(\\theta), r \\sin(\\theta))$$\n",
    "\n",
    "_Note: in parenthesis the coordinates as expressed in the cartesian orthnormal coordinates_\n",
    "\n",
    "for Python vars `u` and `p` are suffixed to refer to the unprimed and primed coordinate systems respectively."
   ]
  },
  {
   "cell_type": "code",
   "execution_count": 65,
   "metadata": {},
   "outputs": [
    {
     "data": {
      "text/latex": [
       "\\begin{align}\n",
       "\\mathbf{R}(Z) = \\,&\\, \\left[\\begin{matrix}x & y\\end{matrix}\\right]\\\\ \n",
       "\\mathbf{R}(Z') = \\,&\\, \\left[\\begin{matrix}r \\cos{\\left (\\theta \\right )} & r \\sin{\\left (\\theta \\right )}\\end{matrix}\\right]\\\\ \n",
       "\\end{align}"
      ],
      "text/plain": [
       "<IPython.core.display.Latex object>"
      ]
     },
     "execution_count": 65,
     "metadata": {},
     "output_type": "execute_result"
    }
   ],
   "source": [
    "x,y,z,r,t,phi = sy.symbols(\"x y z r \\\\theta \\\\phi\")\n",
    "sy.init_printing(use_latex=True)\n",
    "\n",
    "# the set of coordinates in each system and the position vector\n",
    "Zu = [x,y]\n",
    "Zp = [r,t]\n",
    "RZu = sy.Matrix([[x,y]])\n",
    "RZp = sy.Matrix([[r*sy.cos(t), r*sy.sin(t)]])\n",
    "\n",
    "\n",
    "show_latex([[\"\\mathbf{R}(Z) =\", RZu], \n",
    "            [\"\\mathbf{R}(Z') =\", RZp]])"
   ]
  },
  {
   "cell_type": "markdown",
   "metadata": {},
   "source": [
    "## 2. Obtain covariant basis\n",
    "\n",
    "given a coordinate system, its covariant basis is\n",
    "\n",
    "$$\\mathbf{Z_i} = \\frac{\\partial\\mathbf{R}(Z)}{\\partial Z^i}$$\n",
    "\n",
    "observe how we apply this definition using differentiation in sympy"
   ]
  },
  {
   "cell_type": "code",
   "execution_count": 66,
   "metadata": {},
   "outputs": [
    {
     "data": {
      "text/latex": [
       "\\begin{align}\n",
       "\\mathbf{Z_0} = \\mathbf{Z_x} =  \\,&\\, \\left[\\begin{matrix}1 & 0\\end{matrix}\\right]\\\\ \n",
       "\\mathbf{Z_1} = \\mathbf{Z_y} =  \\,&\\, \\left[\\begin{matrix}0 & 1\\end{matrix}\\right]\\\\ \n",
       " \\,&\\, \\\\ \n",
       "\\mathbf{Z_{0'}} = \\mathbf{Z_{r'}} =  \\,&\\, \\left[\\begin{matrix}\\cos{\\left (\\theta \\right )} & \\sin{\\left (\\theta \\right )}\\end{matrix}\\right]\\\\ \n",
       "\\mathbf{Z_{1'}} = \\mathbf{Z_{\\theta'}} =  \\,&\\, \\left[\\begin{matrix}- r \\sin{\\left (\\theta \\right )} & r \\cos{\\left (\\theta \\right )}\\end{matrix}\\right]\\\\ \n",
       "\\end{align}"
      ],
      "text/plain": [
       "<IPython.core.display.Latex object>"
      ]
     },
     "execution_count": 66,
     "metadata": {},
     "output_type": "execute_result"
    }
   ],
   "source": [
    "Zu_i = build_covbasis(RZu, Zu)\n",
    "Zp_i = build_covbasis(RZp, Zp)\n",
    "show_latex([[\"\\mathbf{Z_%d} = \\mathbf{Z_%s} = \"%(c,Zu[c]), i] for c,i in enumerate(Zu_i)]+\n",
    "           [[\"\", \"\"]] +\n",
    "           [[\"\\mathbf{Z_{%d'}} = \\mathbf{Z_{%s'}} = \"%(c,Zp[c]), i] for c,i in enumerate(Zp_i)])"
   ]
  },
  {
   "cell_type": "markdown",
   "metadata": {},
   "source": [
    "## 3. Obtain metric tensor\n",
    "\n",
    "the **covariant metric tensor** is given by:\n",
    "\n",
    "$$Z_{ij} = \\mathbf{Z}_i \\cdot \\mathbf{Z}_j$$\n",
    "\n",
    "the **contravariant metric tensor**, $Z^{ij}$ is the matrix inverse of the **covariant metric tensor**, $Z_{ij}$ with:\n",
    "\n",
    "$$Z^{ij}Z_{jk} = \\delta^i_j$$\n",
    "\n",
    "in python notation `ZuEij` $=Z^{ij}$"
   ]
  },
  {
   "cell_type": "code",
   "execution_count": 67,
   "metadata": {},
   "outputs": [
    {
     "data": {
      "text/latex": [
       "\\begin{align}\n",
       "Z_{ij} =  \\,&\\, \\left[\\begin{matrix}1 & 0\\\\0 & 1\\end{matrix}\\right]\\\\ \n",
       "Z^{ij} =  \\,&\\, \\left[\\begin{matrix}1 & 0\\\\0 & 1\\end{matrix}\\right]\\\\ \n",
       "\\end{align}"
      ],
      "text/plain": [
       "<IPython.core.display.Latex object>"
      ]
     },
     "execution_count": 67,
     "metadata": {},
     "output_type": "execute_result"
    }
   ],
   "source": [
    "Zu_ij, ZuEij = build_metric_tensors(Zu_i)\n",
    "show_latex([[\"Z_{ij} = \", Zu_ij],\n",
    "            [\"Z^{ij} = \", ZuEij]])"
   ]
  },
  {
   "cell_type": "code",
   "execution_count": 68,
   "metadata": {},
   "outputs": [
    {
     "data": {
      "text/latex": [
       "\\begin{align}\n",
       "Z_{ij} =  \\,&\\, \\left[\\begin{matrix}1 & 0\\\\0 & r^{2}\\end{matrix}\\right]\\\\ \n",
       "Z^{ij} =  \\,&\\, \\left[\\begin{matrix}1 & 0\\\\0 & \\frac{1}{r^{2}}\\end{matrix}\\right]\\\\ \n",
       "\\end{align}"
      ],
      "text/plain": [
       "<IPython.core.display.Latex object>"
      ]
     },
     "execution_count": 68,
     "metadata": {},
     "output_type": "execute_result"
    }
   ],
   "source": [
    "Zp_ij, ZpEij = build_metric_tensors(Zp_i)\n",
    "show_latex([[\"Z_{ij} = \", Zp_ij],\n",
    "            [\"Z^{ij} = \", ZpEij]])"
   ]
  },
  {
   "cell_type": "markdown",
   "metadata": {},
   "source": [
    "### 4. Set up the transformation equations between $Z'$ and $Z$"
   ]
  },
  {
   "cell_type": "code",
   "execution_count": 69,
   "metadata": {
    "collapsed": true
   },
   "outputs": [],
   "source": [
    "fZu = RZp\n",
    "fZp = sy.Matrix([sy.sqrt(x**2+y**2), sy.atan2(y,x)]).T"
   ]
  },
  {
   "cell_type": "code",
   "execution_count": 70,
   "metadata": {},
   "outputs": [
    {
     "data": {
      "text/latex": [
       "\\begin{align}\n",
       "Z^i(Z'): \\,&\\, \\\\ \n",
       "&x{\\left (\\left[\\begin{matrix}r & \\theta\\end{matrix}\\right] \\right )}= \\,&\\, r \\cos{\\left (\\theta \\right )}\\\\ \n",
       "&y{\\left (\\left[\\begin{matrix}r & \\theta\\end{matrix}\\right] \\right )}= \\,&\\, r \\sin{\\left (\\theta \\right )}\\\\ \n",
       "\\end{align}"
      ],
      "text/plain": [
       "<IPython.core.display.Latex object>"
      ]
     },
     "execution_count": 70,
     "metadata": {},
     "output_type": "execute_result"
    }
   ],
   "source": [
    "show_latex([[\"Z^i(Z'):\", \"\"]]+[[\"&\"+sy.latex(a(sy.Matrix(Zp).T))+\"=\",b] for a,b in zip(Zu, fZu)])"
   ]
  },
  {
   "cell_type": "code",
   "execution_count": 71,
   "metadata": {},
   "outputs": [
    {
     "data": {
      "text/latex": [
       "\\begin{align}\n",
       "Z'^i(Z): \\,&\\, \\\\ \n",
       "&r{\\left (\\left[\\begin{matrix}x & y\\end{matrix}\\right] \\right )}= \\,&\\, \\sqrt{x^{2} + y^{2}}\\\\ \n",
       "&\\theta{\\left (\\left[\\begin{matrix}x & y\\end{matrix}\\right] \\right )}= \\,&\\, \\operatorname{atan_{2}}{\\left (y,x \\right )}\\\\ \n",
       "\\end{align}"
      ],
      "text/plain": [
       "<IPython.core.display.Latex object>"
      ]
     },
     "execution_count": 71,
     "metadata": {},
     "output_type": "execute_result"
    }
   ],
   "source": [
    "show_latex([[\"Z'^i(Z):\", \"\"]]+[[\"&\"+sy.latex(a(sy.Matrix(Zu).T))+\"=\",b] for a,b in zip(Zp, fZp)])"
   ]
  },
  {
   "cell_type": "markdown",
   "metadata": {},
   "source": [
    "check transformation eqs are inverse relations"
   ]
  },
  {
   "cell_type": "code",
   "execution_count": 72,
   "metadata": {
    "collapsed": true
   },
   "outputs": [],
   "source": [
    "_fZp = sy.lambdify(Zu, fZp, \"numpy\")\n",
    "_fZu = sy.lambdify(Zp, fZu, \"numpy\")"
   ]
  },
  {
   "cell_type": "code",
   "execution_count": 73,
   "metadata": {},
   "outputs": [
    {
     "name": "stdout",
     "output_type": "stream",
     "text": [
      "[ 0.71062028  0.25036318]\n",
      "[ 0.71062028  0.25036318]\n"
     ]
    }
   ],
   "source": [
    "n = np.random.random(size=len(Zu))\n",
    "print n\n",
    "print _fZu(*_fZp(*n)[0])[0]"
   ]
  },
  {
   "cell_type": "code",
   "execution_count": 74,
   "metadata": {},
   "outputs": [
    {
     "name": "stdout",
     "output_type": "stream",
     "text": [
      "[ 0.49453934  0.53074702]\n",
      "[ 0.49453934  0.53074702]\n"
     ]
    }
   ],
   "source": [
    "n = np.random.random(size=len(Zu))\n",
    "print n\n",
    "print _fZp(*_fZu(*n)[0])[0]"
   ]
  },
  {
   "cell_type": "markdown",
   "metadata": {},
   "source": [
    "### 5. Obtain the Jacobians (optional)"
   ]
  },
  {
   "cell_type": "code",
   "execution_count": 75,
   "metadata": {
    "collapsed": true
   },
   "outputs": [],
   "source": [
    "Jp = sy.Matrix(fZu).jacobian(Zp)\n",
    "Ju = sy.Matrix(fZp).jacobian(Zu)"
   ]
  },
  {
   "cell_type": "code",
   "execution_count": 76,
   "metadata": {},
   "outputs": [
    {
     "data": {
      "text/latex": [
       "\\begin{align}\n",
       "J(Z)=J\\left[\\begin{matrix}x & y\\end{matrix}\\right]= \\,&\\, \\left[\\begin{matrix}\\frac{x}{\\sqrt{x^{2} + y^{2}}} & \\frac{y}{\\sqrt{x^{2} + y^{2}}}\\\\- \\frac{y}{x^{2} + y^{2}} & \\frac{x}{x^{2} + y^{2}}\\end{matrix}\\right]\\\\ \n",
       "\\end{align}"
      ],
      "text/plain": [
       "<IPython.core.display.Latex object>"
      ]
     },
     "execution_count": 76,
     "metadata": {},
     "output_type": "execute_result"
    }
   ],
   "source": [
    "show_latex([[\"J(Z)=J\"+sy.latex(sy.Matrix(Zu).T)+\"=\", Ju]])"
   ]
  },
  {
   "cell_type": "code",
   "execution_count": 77,
   "metadata": {},
   "outputs": [
    {
     "data": {
      "text/latex": [
       "\\begin{align}\n",
       "J'(Z')=J'\\left[\\begin{matrix}r & \\theta\\end{matrix}\\right]= \\,&\\, \\left[\\begin{matrix}\\cos{\\left (\\theta \\right )} & - r \\sin{\\left (\\theta \\right )}\\\\\\sin{\\left (\\theta \\right )} & r \\cos{\\left (\\theta \\right )}\\end{matrix}\\right]\\\\ \n",
       "\\end{align}"
      ],
      "text/plain": [
       "<IPython.core.display.Latex object>"
      ]
     },
     "execution_count": 77,
     "metadata": {},
     "output_type": "execute_result"
    }
   ],
   "source": [
    "show_latex([[\"J'(Z')=J'\"+sy.latex(sy.Matrix(Zp).T)+\"=\", Jp]])"
   ]
  },
  {
   "cell_type": "markdown",
   "metadata": {},
   "source": [
    "check jacobians multiplied result in the identity"
   ]
  },
  {
   "cell_type": "code",
   "execution_count": 78,
   "metadata": {},
   "outputs": [
    {
     "data": {
      "text/latex": [
       "$$\\left[\\begin{matrix}1 & 0\\\\0 & 1\\end{matrix}\\right]$$"
      ],
      "text/plain": [
       "⎡1  0⎤\n",
       "⎢    ⎥\n",
       "⎣0  1⎦"
      ]
     },
     "execution_count": 78,
     "metadata": {},
     "output_type": "execute_result"
    }
   ],
   "source": [
    "k = (Ju*Jp).subs({a:b for a,b in zip(Zp, fZp)}).subs({i:1 for i in Zu})\n",
    "k.simplify()\n",
    "k"
   ]
  },
  {
   "cell_type": "markdown",
   "metadata": {},
   "source": [
    "### 6. Define scalar function and compute gradient\n",
    "\n",
    "$F(Z)$: the scalar function\n",
    "\n",
    "$$\\nabla F = \\frac{\\partial F(Z)}{\\partial Z^i}Z^{ij}\\mathbf{Z}_j = \\nabla F_i Z^{ij}\\mathbf{Z}_j$$\n"
   ]
  },
  {
   "cell_type": "code",
   "execution_count": 79,
   "metadata": {},
   "outputs": [
    {
     "data": {
      "text/latex": [
       "\\begin{align}\n",
       "F\\left[\\begin{matrix}x & y\\end{matrix}\\right]= \\,&\\, x^{2} + y^{2}\\\\ \n",
       "\\end{align}"
      ],
      "text/plain": [
       "<IPython.core.display.Latex object>"
      ]
     },
     "execution_count": 79,
     "metadata": {},
     "output_type": "execute_result"
    }
   ],
   "source": [
    "s = sum([i**2 for i in Zu])\n",
    "show_latex([[\"F\"+sy.latex(sy.Matrix(Zu).T)+\"=\", s]])"
   ]
  },
  {
   "cell_type": "code",
   "execution_count": 80,
   "metadata": {},
   "outputs": [
    {
     "data": {
      "text/latex": [
       "$$\\left[\\begin{matrix}2 x\\\\2 y\\end{matrix}\\right]$$"
      ],
      "text/plain": [
       "⎡2⋅x⎤\n",
       "⎢   ⎥\n",
       "⎣2⋅y⎦"
      ]
     },
     "execution_count": 80,
     "metadata": {},
     "output_type": "execute_result"
    }
   ],
   "source": [
    "ig = build_invariant_gradient(s, Zu, Zu_i, ZuEij)\n",
    "ig"
   ]
  },
  {
   "cell_type": "markdown",
   "metadata": {},
   "source": [
    "now with the unprimed basis, the same function expressed in terms of the unprimed basis via the primed basis\n",
    "\n",
    "$$F(Z´)=F(Z(Z'))$$"
   ]
  },
  {
   "cell_type": "code",
   "execution_count": 81,
   "metadata": {},
   "outputs": [
    {
     "data": {
      "text/latex": [
       "\\begin{align}\n",
       "F\\left[\\begin{matrix}r & \\theta\\end{matrix}\\right]= \\,&\\, r^{2} \\sin^{2}{\\left (\\theta \\right )} + r^{2} \\cos^{2}{\\left (\\theta \\right )}\\\\ \n",
       "\\end{align}"
      ],
      "text/plain": [
       "<IPython.core.display.Latex object>"
      ]
     },
     "execution_count": 81,
     "metadata": {},
     "output_type": "execute_result"
    }
   ],
   "source": [
    "s = sum([i**2 for i in fZu])\n",
    "show_latex([[\"F\"+sy.latex(sy.Matrix(Zp).T)+\"=\", s]])"
   ]
  },
  {
   "cell_type": "markdown",
   "metadata": {},
   "source": [
    "observe the partial derivatives do not correspond to the geomtric gradient"
   ]
  },
  {
   "cell_type": "code",
   "execution_count": 82,
   "metadata": {},
   "outputs": [
    {
     "data": {
      "image/png": "[encoded data removed]",
      "text/latex": [
       "$$\\left [ 2 r \\sin^{2}{\\left (\\theta \\right )} + 2 r \\cos^{2}{\\left (\\theta \\right )}, \\quad 0\\right ]$$"
      ],
      "text/plain": [
       "⎡       2                  2           ⎤\n",
       "⎣2⋅r⋅sin (\\theta) + 2⋅r⋅cos (\\theta), 0⎦"
      ]
     },
     "execution_count": 82,
     "metadata": {},
     "output_type": "execute_result"
    }
   ],
   "source": [
    "[s.diff(i) for i in Zp]"
   ]
  },
  {
   "cell_type": "code",
   "execution_count": 83,
   "metadata": {},
   "outputs": [
    {
     "data": {
      "text/latex": [
       "$$\\left[\\begin{matrix}2 r \\cos{\\left (\\theta \\right )}\\\\2 r \\sin{\\left (\\theta \\right )}\\end{matrix}\\right]$$"
      ],
      "text/plain": [
       "⎡2⋅r⋅cos(\\theta)⎤\n",
       "⎢               ⎥\n",
       "⎣2⋅r⋅sin(\\theta)⎦"
      ]
     },
     "execution_count": 83,
     "metadata": {},
     "output_type": "execute_result"
    }
   ],
   "source": [
    "ig = build_invariant_gradient(s, Zp, Zp_i, ZpEij)\n",
    "ig"
   ]
  },
  {
   "cell_type": "markdown",
   "metadata": {},
   "source": [
    "and with the corresponding coordinate transformation now looks exactly as above"
   ]
  },
  {
   "cell_type": "code",
   "execution_count": 84,
   "metadata": {},
   "outputs": [
    {
     "data": {
      "text/latex": [
       "$$\\left[\\begin{matrix}2 x\\\\2 y\\end{matrix}\\right]$$"
      ],
      "text/plain": [
       "⎡2⋅x⎤\n",
       "⎢   ⎥\n",
       "⎣2⋅y⎦"
      ]
     },
     "execution_count": 84,
     "metadata": {},
     "output_type": "execute_result"
    }
   ],
   "source": [
    "ig.subs({b:a for a,b in zip(Zu, fZu)})"
   ]
  },
  {
   "cell_type": "markdown",
   "metadata": {},
   "source": [
    "### all bundled together"
   ]
  },
  {
   "cell_type": "code",
   "execution_count": 93,
   "metadata": {},
   "outputs": [
    {
     "data": {
      "text/latex": [
       "\\begin{align}\n",
       "\\textbf{position vectors} \\,&\\, \\\\ \n",
       "\\mathbf{R}(Z) = \\,&\\, \\left[\\begin{matrix}x & y\\end{matrix}\\right]\\\\ \n",
       "\\mathbf{R}(Z') = \\,&\\, \\left[\\begin{matrix}r \\cos{\\left (\\theta \\right )} & r \\sin{\\left (\\theta \\right )}\\end{matrix}\\right]\\\\ \n",
       " \\,&\\, \\\\ \n",
       "\\textbf{transformation equations:} \\,&\\, \\\\ \n",
       "Z^i(Z'): \\,&\\, \\\\ \n",
       "&x{\\left (\\left[\\begin{matrix}r & \\theta\\end{matrix}\\right] \\right )}= \\,&\\, r \\cos{\\left (\\theta \\right )}\\\\ \n",
       "&y{\\left (\\left[\\begin{matrix}r & \\theta\\end{matrix}\\right] \\right )}= \\,&\\, r \\sin{\\left (\\theta \\right )}\\\\ \n",
       "\\textbf{covariant basis:} \\,&\\, \\\\ \n",
       "\\mathbf{Z_0} = \\mathbf{Z_x} =  \\,&\\, \\left[\\begin{matrix}1 & 0\\end{matrix}\\right]\\\\ \n",
       "\\mathbf{Z_1} = \\mathbf{Z_y} =  \\,&\\, \\left[\\begin{matrix}0 & 1\\end{matrix}\\right]\\\\ \n",
       " \\,&\\, \\\\ \n",
       "\\mathbf{Z_{0'}} = \\mathbf{Z_{r'}} =  \\,&\\, \\left[\\begin{matrix}\\cos{\\left (\\theta \\right )} & \\sin{\\left (\\theta \\right )}\\end{matrix}\\right]\\\\ \n",
       "\\mathbf{Z_{1'}} = \\mathbf{Z_{\\theta'}} =  \\,&\\, \\left[\\begin{matrix}- r \\sin{\\left (\\theta \\right )} & r \\cos{\\left (\\theta \\right )}\\end{matrix}\\right]\\\\ \n",
       " \\,&\\, \\\\ \n",
       "\\textbf{metric tensors} \\,&\\, (covariant\\;contravariant\\;primed\\;unprimed)\\\\ \n",
       "Z_{ij} =  \\,&\\, \\left[\\begin{matrix}1 & 0\\\\0 & 1\\end{matrix}\\right]\\\\ \n",
       "Z^{ij} =  \\,&\\, \\left[\\begin{matrix}1 & 0\\\\0 & 1\\end{matrix}\\right]\\\\ \n",
       "Z'_{ij} =  \\,&\\, \\left[\\begin{matrix}1 & 0\\\\0 & r^{2}\\end{matrix}\\right]\\\\ \n",
       "Z'^{ij} =  \\,&\\, \\left[\\begin{matrix}1 & 0\\\\0 & \\frac{1}{r^{2}}\\end{matrix}\\right]\\\\ \n",
       " \\,&\\, \\\\ \n",
       "\\textbf{scalar function} \\,&\\, in\\;unprimed\\;system\\\\ \n",
       "F\\left[\\begin{matrix}x & y\\end{matrix}\\right]= \\,&\\, x^{2} + y^{2}\\\\ \n",
       "partial\\;derivatives \\,&\\, \\left[\\begin{matrix}2 x\\\\2 y\\end{matrix}\\right]\\\\ \n",
       "gradient \\,&\\, \\left[\\begin{matrix}2 x\\\\2 y\\end{matrix}\\right]\\\\ \n",
       " \\,&\\, \\\\ \n",
       "\\textbf{scalar function} \\,&\\, in\\;primed\\;system\\\\ \n",
       "F\\left[\\begin{matrix}r & \\theta\\end{matrix}\\right]= \\,&\\, r^{2} \\sin^{2}{\\left (\\theta \\right )} + r^{2} \\cos^{2}{\\left (\\theta \\right )}\\\\ \n",
       "partial\\; derivatives \\,&\\, \\left[\\begin{matrix}2 r \\sin^{2}{\\left (\\theta \\right )} + 2 r \\cos^{2}{\\left (\\theta \\right )}\\\\0\\end{matrix}\\right]\\\\ \n",
       "gradient \\,&\\, \\left[\\begin{matrix}2 r \\cos{\\left (\\theta \\right )}\\\\2 r \\sin{\\left (\\theta \\right )}\\end{matrix}\\right]\\\\ \n",
       "check\\;(must\\;be\\;0) \\,&\\, \\left[\\begin{matrix}0\\\\0\\end{matrix}\\right]\\\\ \n",
       "\\end{align}"
      ],
      "text/plain": [
       "<IPython.core.display.Latex object>"
      ]
     },
     "execution_count": 93,
     "metadata": {},
     "output_type": "execute_result"
    },
    {
     "data": {
      "image/png": "[encoded data removed]",
      "text/plain": [
       "<matplotlib.figure.Figure at 0x7f881715f3d0>"
      ]
     },
     "metadata": {},
     "output_type": "display_data"
    }
   ],
   "source": [
    "# the set of coordinates in each system and the position vector\n",
    "x,y,r,t = sy.symbols(\"x y r \\\\theta\")\n",
    "Zu = [x,y]\n",
    "Zp = [r,t]\n",
    "RZu = sy.Matrix([[x,y]])\n",
    "RZp = sy.Matrix([[r*sy.cos(t), r*sy.sin(t)]])\n",
    "plot_2D_transformation_grid(Zp, RZp, axis_equal=True)\n",
    "show_invariant_gradient(Zu, Zp, RZu, RZp)"
   ]
  },
  {
   "cell_type": "markdown",
   "metadata": {},
   "source": [
    "### In 3D cartesian and spherical coords"
   ]
  },
  {
   "cell_type": "code",
   "execution_count": 88,
   "metadata": {},
   "outputs": [
    {
     "data": {
      "text/latex": [
       "\\begin{align}\n",
       "\\textbf{position vectors} \\,&\\, \\\\ \n",
       "\\mathbf{R}(Z) = \\,&\\, \\left[\\begin{matrix}x & y & z\\end{matrix}\\right]\\\\ \n",
       "\\mathbf{R}(Z') = \\,&\\, \\left[\\begin{matrix}r \\sin{\\left (\\theta \\right )} \\cos{\\left (\\phi \\right )} & r \\sin{\\left (\\phi \\right )} \\sin{\\left (\\theta \\right )} & r \\cos{\\left (\\theta \\right )}\\end{matrix}\\right]\\\\ \n",
       " \\,&\\, \\\\ \n",
       "\\textbf{transformation equations:} \\,&\\, \\\\ \n",
       "Z^i(Z'): \\,&\\, \\\\ \n",
       "&x{\\left (\\left[\\begin{matrix}r & \\theta & \\phi\\end{matrix}\\right] \\right )}= \\,&\\, r \\sin{\\left (\\theta \\right )} \\cos{\\left (\\phi \\right )}\\\\ \n",
       "&y{\\left (\\left[\\begin{matrix}r & \\theta & \\phi\\end{matrix}\\right] \\right )}= \\,&\\, r \\sin{\\left (\\phi \\right )} \\sin{\\left (\\theta \\right )}\\\\ \n",
       "&z{\\left (\\left[\\begin{matrix}r & \\theta & \\phi\\end{matrix}\\right] \\right )}= \\,&\\, r \\cos{\\left (\\theta \\right )}\\\\ \n",
       "\\textbf{covariant basis:} \\,&\\, \\\\ \n",
       "\\mathbf{Z_0} = \\mathbf{Z_x} =  \\,&\\, \\left[\\begin{matrix}1 & 0 & 0\\end{matrix}\\right]\\\\ \n",
       "\\mathbf{Z_1} = \\mathbf{Z_y} =  \\,&\\, \\left[\\begin{matrix}0 & 1 & 0\\end{matrix}\\right]\\\\ \n",
       "\\mathbf{Z_2} = \\mathbf{Z_z} =  \\,&\\, \\left[\\begin{matrix}0 & 0 & 1\\end{matrix}\\right]\\\\ \n",
       " \\,&\\, \\\\ \n",
       "\\mathbf{Z_{0'}} = \\mathbf{Z_{r'}} =  \\,&\\, \\left[\\begin{matrix}\\sin{\\left (\\theta \\right )} \\cos{\\left (\\phi \\right )} & \\sin{\\left (\\phi \\right )} \\sin{\\left (\\theta \\right )} & \\cos{\\left (\\theta \\right )}\\end{matrix}\\right]\\\\ \n",
       "\\mathbf{Z_{1'}} = \\mathbf{Z_{\\theta'}} =  \\,&\\, \\left[\\begin{matrix}r \\cos{\\left (\\phi \\right )} \\cos{\\left (\\theta \\right )} & r \\sin{\\left (\\phi \\right )} \\cos{\\left (\\theta \\right )} & - r \\sin{\\left (\\theta \\right )}\\end{matrix}\\right]\\\\ \n",
       "\\mathbf{Z_{2'}} = \\mathbf{Z_{\\phi'}} =  \\,&\\, \\left[\\begin{matrix}- r \\sin{\\left (\\phi \\right )} \\sin{\\left (\\theta \\right )} & r \\sin{\\left (\\theta \\right )} \\cos{\\left (\\phi \\right )} & 0\\end{matrix}\\right]\\\\ \n",
       " \\,&\\, \\\\ \n",
       "\\textbf{metric tensors} \\,&\\, (covariant\\;contravariant\\;primed\\;unprimed)\\\\ \n",
       "Z_{ij} =  \\,&\\, \\left[\\begin{matrix}1 & 0 & 0\\\\0 & 1 & 0\\\\0 & 0 & 1\\end{matrix}\\right]\\\\ \n",
       "Z^{ij} =  \\,&\\, \\left[\\begin{matrix}1 & 0 & 0\\\\0 & 1 & 0\\\\0 & 0 & 1\\end{matrix}\\right]\\\\ \n",
       "Z'_{ij} =  \\,&\\, \\left[\\begin{matrix}1 & 0 & 0\\\\0 & r^{2} & 0\\\\0 & 0 & r^{2} \\sin^{2}{\\left (\\theta \\right )}\\end{matrix}\\right]\\\\ \n",
       "Z'^{ij} =  \\,&\\, \\left[\\begin{matrix}1 & 0 & 0\\\\0 & \\frac{1}{r^{2}} & 0\\\\0 & 0 & \\frac{1}{r^{2} \\sin^{2}{\\left (\\theta \\right )}}\\end{matrix}\\right]\\\\ \n",
       " \\,&\\, \\\\ \n",
       "\\textbf{scalar function} \\,&\\, in\\;unprimed\\;system\\\\ \n",
       "F\\left[\\begin{matrix}x & y & z\\end{matrix}\\right]= \\,&\\, x^{2} + y^{2} + z^{2}\\\\ \n",
       "partial\\;derivatives \\,&\\, \\left[\\begin{matrix}2 x\\\\2 y\\\\2 z\\end{matrix}\\right]\\\\ \n",
       "gradient \\,&\\, \\left[\\begin{matrix}2 x\\\\2 y\\\\2 z\\end{matrix}\\right]\\\\ \n",
       " \\,&\\, \\\\ \n",
       "\\textbf{scalar function} \\,&\\, in\\;primed\\;system\\\\ \n",
       "F\\left[\\begin{matrix}r & \\theta & \\phi\\end{matrix}\\right]= \\,&\\, r^{2} \\sin^{2}{\\left (\\phi \\right )} \\sin^{2}{\\left (\\theta \\right )} + r^{2} \\sin^{2}{\\left (\\theta \\right )} \\cos^{2}{\\left (\\phi \\right )} + r^{2} \\cos^{2}{\\left (\\theta \\right )}\\\\ \n",
       "partial\\; derivatives \\,&\\, \\left[\\begin{matrix}2 r \\sin^{2}{\\left (\\phi \\right )} \\sin^{2}{\\left (\\theta \\right )} + 2 r \\sin^{2}{\\left (\\theta \\right )} \\cos^{2}{\\left (\\phi \\right )} + 2 r \\cos^{2}{\\left (\\theta \\right )}\\\\2 r^{2} \\sin^{2}{\\left (\\phi \\right )} \\sin{\\left (\\theta \\right )} \\cos{\\left (\\theta \\right )} + 2 r^{2} \\sin{\\left (\\theta \\right )} \\cos^{2}{\\left (\\phi \\right )} \\cos{\\left (\\theta \\right )} - 2 r^{2} \\sin{\\left (\\theta \\right )} \\cos{\\left (\\theta \\right )}\\\\0\\end{matrix}\\right]\\\\ \n",
       "gradient \\,&\\, \\left[\\begin{matrix}2 r \\sin{\\left (\\theta \\right )} \\cos{\\left (\\phi \\right )}\\\\2 r \\sin{\\left (\\phi \\right )} \\sin{\\left (\\theta \\right )}\\\\2 r \\cos{\\left (\\theta \\right )}\\end{matrix}\\right]\\\\ \n",
       "substition\\;in \\; gradient \\,&\\, \\left[\\begin{matrix}0\\\\0\\\\0\\end{matrix}\\right]\\\\ \n",
       "\\end{align}"
      ],
      "text/plain": [
       "<IPython.core.display.Latex object>"
      ]
     },
     "execution_count": 88,
     "metadata": {},
     "output_type": "execute_result"
    }
   ],
   "source": [
    "\n",
    "# the set of coordinates in each system and the position vector\n",
    "x,y,z,r,t,phi = sy.symbols(\"x y z r \\\\theta \\\\phi\")\n",
    "Zu = [x,y,z]\n",
    "Zp = [r,t,phi]\n",
    "RZu = sy.Matrix([[x,y,z]])\n",
    "RZp = sy.Matrix([[r*sy.sin(t)*sy.cos(phi), r*sy.sin(t)*sy.sin(phi), r*sy.cos(t)]])\n",
    "show_invariant_gradient(Zu, Zp, RZu, RZp)"
   ]
  },
  {
   "cell_type": "markdown",
   "metadata": {},
   "source": [
    "### an scaling transformation"
   ]
  },
  {
   "cell_type": "code",
   "execution_count": 95,
   "metadata": {},
   "outputs": [
    {
     "data": {
      "text/latex": [
       "\\begin{align}\n",
       "\\textbf{position vectors} \\,&\\, \\\\ \n",
       "\\mathbf{R}(Z) = \\,&\\, \\left[\\begin{matrix}x & y\\end{matrix}\\right]\\\\ \n",
       "\\mathbf{R}(Z') = \\,&\\, \\left[\\begin{matrix}2 v & 3 w\\end{matrix}\\right]\\\\ \n",
       " \\,&\\, \\\\ \n",
       "\\textbf{transformation equations:} \\,&\\, \\\\ \n",
       "Z^i(Z'): \\,&\\, \\\\ \n",
       "&x{\\left (\\left[\\begin{matrix}v & w\\end{matrix}\\right] \\right )}= \\,&\\, 2 v\\\\ \n",
       "&y{\\left (\\left[\\begin{matrix}v & w\\end{matrix}\\right] \\right )}= \\,&\\, 3 w\\\\ \n",
       "\\textbf{covariant basis:} \\,&\\, \\\\ \n",
       "\\mathbf{Z_0} = \\mathbf{Z_x} =  \\,&\\, \\left[\\begin{matrix}1 & 0\\end{matrix}\\right]\\\\ \n",
       "\\mathbf{Z_1} = \\mathbf{Z_y} =  \\,&\\, \\left[\\begin{matrix}0 & 1\\end{matrix}\\right]\\\\ \n",
       " \\,&\\, \\\\ \n",
       "\\mathbf{Z_{0'}} = \\mathbf{Z_{v'}} =  \\,&\\, \\left[\\begin{matrix}2 & 0\\end{matrix}\\right]\\\\ \n",
       "\\mathbf{Z_{1'}} = \\mathbf{Z_{w'}} =  \\,&\\, \\left[\\begin{matrix}0 & 3\\end{matrix}\\right]\\\\ \n",
       " \\,&\\, \\\\ \n",
       "\\textbf{metric tensors} \\,&\\, (covariant\\;contravariant\\;primed\\;unprimed)\\\\ \n",
       "Z_{ij} =  \\,&\\, \\left[\\begin{matrix}1 & 0\\\\0 & 1\\end{matrix}\\right]\\\\ \n",
       "Z^{ij} =  \\,&\\, \\left[\\begin{matrix}1 & 0\\\\0 & 1\\end{matrix}\\right]\\\\ \n",
       "Z'_{ij} =  \\,&\\, \\left[\\begin{matrix}4 & 0\\\\0 & 9\\end{matrix}\\right]\\\\ \n",
       "Z'^{ij} =  \\,&\\, \\left[\\begin{matrix}\\frac{1}{4} & 0\\\\0 & \\frac{1}{9}\\end{matrix}\\right]\\\\ \n",
       " \\,&\\, \\\\ \n",
       "\\textbf{scalar function} \\,&\\, in\\;unprimed\\;system\\\\ \n",
       "F\\left[\\begin{matrix}x & y\\end{matrix}\\right]= \\,&\\, x^{2} + y^{2}\\\\ \n",
       "partial\\;derivatives \\,&\\, \\left[\\begin{matrix}2 x\\\\2 y\\end{matrix}\\right]\\\\ \n",
       "gradient \\,&\\, \\left[\\begin{matrix}2 x\\\\2 y\\end{matrix}\\right]\\\\ \n",
       " \\,&\\, \\\\ \n",
       "\\textbf{scalar function} \\,&\\, in\\;primed\\;system\\\\ \n",
       "F\\left[\\begin{matrix}v & w\\end{matrix}\\right]= \\,&\\, 4 v^{2} + 9 w^{2}\\\\ \n",
       "partial\\; derivatives \\,&\\, \\left[\\begin{matrix}8 v\\\\18 w\\end{matrix}\\right]\\\\ \n",
       "gradient \\,&\\, \\left[\\begin{matrix}4 v\\\\6 w\\end{matrix}\\right]\\\\ \n",
       "check\\;with\\;subst\\;(must\\;be\\;0) \\,&\\, \\left[\\begin{matrix}0\\\\0\\end{matrix}\\right]\\\\ \n",
       "\\end{align}"
      ],
      "text/plain": [
       "<IPython.core.display.Latex object>"
      ]
     },
     "execution_count": 95,
     "metadata": {},
     "output_type": "execute_result"
    },
    {
     "data": {
      "image/png": "[encoded data removed]",
      "text/plain": [
       "<matplotlib.figure.Figure at 0x7f8818660350>"
      ]
     },
     "metadata": {},
     "output_type": "display_data"
    }
   ],
   "source": [
    "# the set of coordinates in each system and the position vector\n",
    "v,w = sy.symbols(\"v w\")\n",
    "\n",
    "Zu = [x,y]\n",
    "Zp = [v,w]\n",
    "RZu = sy.Matrix([[x,y]])\n",
    "RZp = sy.Matrix([[2*v, 3*w]])\n",
    "plot_2D_transformation_grid(Zp, RZp, axis_equal=True)\n",
    "show_invariant_gradient(Zu, Zp, RZu, RZp)"
   ]
  },
  {
   "cell_type": "markdown",
   "metadata": {},
   "source": [
    "### shear transformation (helsinki grid)"
   ]
  },
  {
   "cell_type": "code",
   "execution_count": 96,
   "metadata": {},
   "outputs": [
    {
     "data": {
      "text/latex": [
       "\\begin{align}\n",
       "\\textbf{position vectors} \\,&\\, \\\\ \n",
       "\\mathbf{R}(Z) = \\,&\\, \\left[\\begin{matrix}x & y\\end{matrix}\\right]\\\\ \n",
       "\\mathbf{R}(Z') = \\,&\\, \\left[\\begin{matrix}v + 0.1 w & 0.2 v + w\\end{matrix}\\right]\\\\ \n",
       " \\,&\\, \\\\ \n",
       "\\textbf{transformation equations:} \\,&\\, \\\\ \n",
       "Z^i(Z'): \\,&\\, \\\\ \n",
       "&x{\\left (\\left[\\begin{matrix}v & w\\end{matrix}\\right] \\right )}= \\,&\\, v + 0.1 w\\\\ \n",
       "&y{\\left (\\left[\\begin{matrix}v & w\\end{matrix}\\right] \\right )}= \\,&\\, 0.2 v + w\\\\ \n",
       "\\textbf{covariant basis:} \\,&\\, \\\\ \n",
       "\\mathbf{Z_0} = \\mathbf{Z_x} =  \\,&\\, \\left[\\begin{matrix}1 & 0\\end{matrix}\\right]\\\\ \n",
       "\\mathbf{Z_1} = \\mathbf{Z_y} =  \\,&\\, \\left[\\begin{matrix}0 & 1\\end{matrix}\\right]\\\\ \n",
       " \\,&\\, \\\\ \n",
       "\\mathbf{Z_{0'}} = \\mathbf{Z_{v'}} =  \\,&\\, \\left[\\begin{matrix}1 & 0.2\\end{matrix}\\right]\\\\ \n",
       "\\mathbf{Z_{1'}} = \\mathbf{Z_{w'}} =  \\,&\\, \\left[\\begin{matrix}0.1 & 1\\end{matrix}\\right]\\\\ \n",
       " \\,&\\, \\\\ \n",
       "\\textbf{metric tensors} \\,&\\, (covariant\\;contravariant\\;primed\\;unprimed)\\\\ \n",
       "Z_{ij} =  \\,&\\, \\left[\\begin{matrix}1 & 0\\\\0 & 1\\end{matrix}\\right]\\\\ \n",
       "Z^{ij} =  \\,&\\, \\left[\\begin{matrix}1 & 0\\\\0 & 1\\end{matrix}\\right]\\\\ \n",
       "Z'_{ij} =  \\,&\\, \\left[\\begin{matrix}1.04 & 0.3\\\\0.3 & 1.01\\end{matrix}\\right]\\\\ \n",
       "Z'^{ij} =  \\,&\\, \\left[\\begin{matrix}1.05164514785506 & -0.312369845897543\\\\-0.312369845897543 & 1.08288213244481\\end{matrix}\\right]\\\\ \n",
       " \\,&\\, \\\\ \n",
       "\\textbf{scalar function} \\,&\\, in\\;unprimed\\;system\\\\ \n",
       "F\\left[\\begin{matrix}x & y\\end{matrix}\\right]= \\,&\\, x^{2} + y^{2}\\\\ \n",
       "partial\\;derivatives \\,&\\, \\left[\\begin{matrix}2 x\\\\2 y\\end{matrix}\\right]\\\\ \n",
       "gradient \\,&\\, \\left[\\begin{matrix}2 x\\\\2 y\\end{matrix}\\right]\\\\ \n",
       " \\,&\\, \\\\ \n",
       "\\textbf{scalar function} \\,&\\, in\\;primed\\;system\\\\ \n",
       "F\\left[\\begin{matrix}v & w\\end{matrix}\\right]= \\,&\\, \\left(0.2 v + w\\right)^{2} + \\left(v + 0.1 w\\right)^{2}\\\\ \n",
       "partial\\; derivatives \\,&\\, \\left[\\begin{matrix}2.08 v + 0.6 w\\\\0.6 v + 2.02 w\\end{matrix}\\right]\\\\ \n",
       "gradient \\,&\\, \\left[\\begin{matrix}2.0 v + 0.2 w\\\\0.4 v + 2.0 w\\end{matrix}\\right]\\\\ \n",
       "check\\;with\\;subst\\;(must\\;be\\;0) \\,&\\, \\left[\\begin{matrix}- 2.0 v - 0.2 w + 2 x\\\\- 0.4 v - 2.0 w + 2 y\\end{matrix}\\right]\\\\ \n",
       "\\end{align}"
      ],
      "text/plain": [
       "<IPython.core.display.Latex object>"
      ]
     },
     "execution_count": 96,
     "metadata": {},
     "output_type": "execute_result"
    },
    {
     "data": {
      "image/png": "[encoded data removed]",
      "text/plain": [
       "<matplotlib.figure.Figure at 0x7f8817554090>"
      ]
     },
     "metadata": {},
     "output_type": "display_data"
    }
   ],
   "source": [
    "# the set of coordinates in each system and the position vector\n",
    "x,y,v,w = sy.symbols(\"x y v w\")\n",
    "\n",
    "Zu = [x,y]\n",
    "Zp = [v,w]\n",
    "RZu = sy.Matrix([[x,y]])\n",
    "RZp = sy.Matrix([[v+.1*w, w+.2*v]])\n",
    "plot_2D_transformation_grid(Zp, RZp, axis_equal=True)\n",
    "show_invariant_gradient(Zu, Zp, RZu, RZp)"
   ]
  },
  {
   "cell_type": "markdown",
   "metadata": {},
   "source": [
    "### rotating transformation at 45º"
   ]
  },
  {
   "cell_type": "code",
   "execution_count": 97,
   "metadata": {},
   "outputs": [
    {
     "data": {
      "text/latex": [
       "\\begin{align}\n",
       "\\textbf{position vectors} \\,&\\, \\\\ \n",
       "\\mathbf{R}(Z) = \\,&\\, \\left[\\begin{matrix}x & y\\end{matrix}\\right]\\\\ \n",
       "\\mathbf{R}(Z') = \\,&\\, \\left[\\begin{matrix}\\frac{\\sqrt{2} v}{2} - \\frac{\\sqrt{2} w}{2} & \\frac{\\sqrt{2} v}{2} + \\frac{\\sqrt{2} w}{2}\\end{matrix}\\right]\\\\ \n",
       " \\,&\\, \\\\ \n",
       "\\textbf{transformation equations:} \\,&\\, \\\\ \n",
       "Z^i(Z'): \\,&\\, \\\\ \n",
       "&x{\\left (\\left[\\begin{matrix}v & w\\end{matrix}\\right] \\right )}= \\,&\\, \\frac{\\sqrt{2} v}{2} - \\frac{\\sqrt{2} w}{2}\\\\ \n",
       "&y{\\left (\\left[\\begin{matrix}v & w\\end{matrix}\\right] \\right )}= \\,&\\, \\frac{\\sqrt{2} v}{2} + \\frac{\\sqrt{2} w}{2}\\\\ \n",
       "\\textbf{covariant basis:} \\,&\\, \\\\ \n",
       "\\mathbf{Z_0} = \\mathbf{Z_x} =  \\,&\\, \\left[\\begin{matrix}1 & 0\\end{matrix}\\right]\\\\ \n",
       "\\mathbf{Z_1} = \\mathbf{Z_y} =  \\,&\\, \\left[\\begin{matrix}0 & 1\\end{matrix}\\right]\\\\ \n",
       " \\,&\\, \\\\ \n",
       "\\mathbf{Z_{0'}} = \\mathbf{Z_{v'}} =  \\,&\\, \\left[\\begin{matrix}\\frac{\\sqrt{2}}{2} & \\frac{\\sqrt{2}}{2}\\end{matrix}\\right]\\\\ \n",
       "\\mathbf{Z_{1'}} = \\mathbf{Z_{w'}} =  \\,&\\, \\left[\\begin{matrix}- \\frac{\\sqrt{2}}{2} & \\frac{\\sqrt{2}}{2}\\end{matrix}\\right]\\\\ \n",
       " \\,&\\, \\\\ \n",
       "\\textbf{metric tensors} \\,&\\, (covariant\\;contravariant\\;primed\\;unprimed)\\\\ \n",
       "Z_{ij} =  \\,&\\, \\left[\\begin{matrix}1 & 0\\\\0 & 1\\end{matrix}\\right]\\\\ \n",
       "Z^{ij} =  \\,&\\, \\left[\\begin{matrix}1 & 0\\\\0 & 1\\end{matrix}\\right]\\\\ \n",
       "Z'_{ij} =  \\,&\\, \\left[\\begin{matrix}1 & 0\\\\0 & 1\\end{matrix}\\right]\\\\ \n",
       "Z'^{ij} =  \\,&\\, \\left[\\begin{matrix}1 & 0\\\\0 & 1\\end{matrix}\\right]\\\\ \n",
       " \\,&\\, \\\\ \n",
       "\\textbf{scalar function} \\,&\\, in\\;unprimed\\;system\\\\ \n",
       "F\\left[\\begin{matrix}x & y\\end{matrix}\\right]= \\,&\\, x^{2} + y^{2}\\\\ \n",
       "partial\\;derivatives \\,&\\, \\left[\\begin{matrix}2 x\\\\2 y\\end{matrix}\\right]\\\\ \n",
       "gradient \\,&\\, \\left[\\begin{matrix}2 x\\\\2 y\\end{matrix}\\right]\\\\ \n",
       " \\,&\\, \\\\ \n",
       "\\textbf{scalar function} \\,&\\, in\\;primed\\;system\\\\ \n",
       "F\\left[\\begin{matrix}v & w\\end{matrix}\\right]= \\,&\\, \\left(\\frac{\\sqrt{2} v}{2} - \\frac{\\sqrt{2} w}{2}\\right)^{2} + \\left(\\frac{\\sqrt{2} v}{2} + \\frac{\\sqrt{2} w}{2}\\right)^{2}\\\\ \n",
       "partial\\; derivatives \\,&\\, \\left[\\begin{matrix}\\sqrt{2} \\left(\\frac{\\sqrt{2} v}{2} - \\frac{\\sqrt{2} w}{2}\\right) + \\sqrt{2} \\left(\\frac{\\sqrt{2} v}{2} + \\frac{\\sqrt{2} w}{2}\\right)\\\\- \\sqrt{2} \\left(\\frac{\\sqrt{2} v}{2} - \\frac{\\sqrt{2} w}{2}\\right) + \\sqrt{2} \\left(\\frac{\\sqrt{2} v}{2} + \\frac{\\sqrt{2} w}{2}\\right)\\end{matrix}\\right]\\\\ \n",
       "gradient \\,&\\, \\left[\\begin{matrix}\\sqrt{2} \\left(v - w\\right)\\\\\\sqrt{2} \\left(v + w\\right)\\end{matrix}\\right]\\\\ \n",
       "check\\;with\\;subst\\;(must\\;be\\;0) \\,&\\, \\left[\\begin{matrix}2 x + \\sqrt{2} \\left(- v + w\\right)\\\\2 y - \\sqrt{2} \\left(v + w\\right)\\end{matrix}\\right]\\\\ \n",
       "\\end{align}"
      ],
      "text/plain": [
       "<IPython.core.display.Latex object>"
      ]
     },
     "execution_count": 97,
     "metadata": {},
     "output_type": "execute_result"
    },
    {
     "data": {
      "image/png": "[encoded data removed]",
      "text/plain": [
       "<matplotlib.figure.Figure at 0x7f88241da050>"
      ]
     },
     "metadata": {},
     "output_type": "display_data"
    }
   ],
   "source": [
    "# the set of coordinates in each system and the position vector\n",
    "x,y,v,w= sy.symbols(\"x y v w\")\n",
    "\n",
    "Zu = [x,y]\n",
    "Zp = [v,w]\n",
    "\n",
    "alpha = sy.pi/4\n",
    "\n",
    "RZu = sy.Matrix([[x,y]])\n",
    "RZp = sy.Matrix([[(v*sy.cos(alpha) - w*sy.cos(alpha)), w*sy.cos(alpha)+v*sy.sin(alpha)]])\n",
    "plot_2D_transformation_grid(Zp, RZp, axis_equal=True)\n",
    "show_invariant_gradient(Zu, Zp, RZu, RZp)"
   ]
  },
  {
   "cell_type": "code",
   "execution_count": null,
   "metadata": {
    "collapsed": true
   },
   "outputs": [],
   "source": []
  }
 ],
 "metadata": {
  "kernelspec": {
   "display_name": "Python 2",
   "language": "python",
   "name": "python2"
  },
  "language_info": {
   "codemirror_mode": {
    "name": "ipython",
    "version": 2
   },
   "file_extension": ".py",
   "mimetype": "text/x-python",
   "name": "python",
   "nbconvert_exporter": "python",
   "pygments_lexer": "ipython2",
   "version": "2.7.14"
  }
 },
 "nbformat": 4,
 "nbformat_minor": 2
}

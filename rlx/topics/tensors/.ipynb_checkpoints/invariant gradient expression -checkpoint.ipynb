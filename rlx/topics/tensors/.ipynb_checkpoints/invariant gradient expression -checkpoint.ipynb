{
 "cells": [
  {
   "cell_type": "code",
   "execution_count": 1,
   "metadata": {},
   "outputs": [],
   "source": [
    "import numpy as np\n",
    "import matplotlib.pyplot as plt\n",
    "import sympy as sy\n",
    "from IPython.display import display, Math, Latex\n",
    "%matplotlib inline\n",
    "\n",
    "def show_latex(s):\n",
    "    \"\"\"\n",
    "       example usage:\n",
    "       \n",
    "       > a,b=sy.symbols(\"a b\")\n",
    "       > expr = a+b\n",
    "       > show_latex([[\"x =\", expr], [\"y =\", expr**2]])\n",
    "\n",
    "       displays in latex:\n",
    "\n",
    "            x = a+b\n",
    "            y = (a+b)^2\n",
    "\n",
    "    \"\"\"    \n",
    "    \n",
    "    l = \"\\\\begin{align}\\n\"\n",
    "    for i in s:\n",
    "        l+=i[0]+\" \\,&\\, \"+sy.latex(i[1])+\"\\\\\\\\ \\n\"\n",
    "    l += \"\\\\end{align}\"\n",
    "    return Latex(l)\n",
    "\n",
    "def build_metric_tesors(basis):\n",
    "    r = sy.Matrix([ [0]*len(basis)]*len(basis))\n",
    "    for i, b1 in enumerate(basis):\n",
    "        for j, b2 in enumerate(basis):\n",
    "            r[i,j] = b1.dot(b2).simplify()\n",
    "    return r, r.inv()\n",
    "\n",
    "def build_invariant_gradient(s, Z, Z_i, ZEij):\n",
    "    grad = sy.Matrix([s.diff(i) for i in Z])\n",
    "    k = sy.Matrix(Z_i).T * (ZEij*grad)\n",
    "    k.simplify()\n",
    "    return k   \n",
    "\n",
    "build_covbasis = lambda RZ, Z: [RZ.diff(i) for i in Z]"
   ]
  },
  {
   "cell_type": "markdown",
   "metadata": {},
   "source": [
    "the Euclidean space is the physical space where objects live and has measure unit (for instance, the meter)\n",
    "\n",
    "$\\mathbf{R}$ is the **coordinate-less** position vector (just an arrow, a geometric object)\n",
    "\n",
    "### 1. Define position vector as function of coordinates\n",
    "\n",
    "$\\mathbf{R}(Z)$ is the position vector as a function of coordinates $Z$.\n",
    "\n",
    "**Cartesian orthonormal coordinates**:  (this corresponds exactly to the Euclidean space)\n",
    "\n",
    "$$\\mathbf{R}(Z) = \\mathbf{R}(x,y) =(x,y)$$\n",
    "\n",
    "**Polar coordinates**: \n",
    "\n",
    "$$\\mathbf{R}(Z') = \\mathbf{R}(r,\\theta)=(r \\cos(\\theta), r \\sin(\\theta))$$\n",
    "\n",
    "_Note: in parenthesis the coordinates as expressed in the cartesian orthnormal coordinates_\n",
    "\n",
    "for Python vars `u` and `p` are suffixed to refer to the unprimed and primed coordinate systems respectively."
   ]
  },
  {
   "cell_type": "code",
   "execution_count": 118,
   "metadata": {},
   "outputs": [
    {
     "data": {
      "text/latex": [
       "\\begin{align}\n",
       "\\mathbf{R}(Z) = \\,&\\, \\left[\\begin{matrix}x & y\\end{matrix}\\right]\\\\ \n",
       "\\mathbf{R}(Z') = \\,&\\, \\left[\\begin{matrix}r \\cos{\\left (\\theta \\right )} & r \\sin{\\left (\\theta \\right )}\\end{matrix}\\right]\\\\ \n",
       "\\end{align}"
      ],
      "text/plain": [
       "<IPython.core.display.Latex object>"
      ]
     },
     "execution_count": 118,
     "metadata": {},
     "output_type": "execute_result"
    }
   ],
   "source": [
    "x,y,z,r,t,phi = sy.symbols(\"x y z r \\\\theta \\\\phi\")\n",
    "sy.init_printing(use_latex=True)\n",
    "\n",
    "# the set of coordinates in each system and the position vector\n",
    "Zu = [x,y]\n",
    "Zp = [r,t]\n",
    "RZu = sy.Matrix([[x,y]])\n",
    "RZp = sy.Matrix([[r*sy.cos(t), r*sy.sin(t)]])\n",
    "\n",
    "\n",
    "show_latex([[\"\\mathbf{R}(Z) =\", RZu], \n",
    "            [\"\\mathbf{R}(Z') =\", RZp]])"
   ]
  },
  {
   "cell_type": "markdown",
   "metadata": {},
   "source": [
    "## 2. Obtain covariant basis\n",
    "\n",
    "given a coordinate system, its covariant basis is\n",
    "\n",
    "$$\\mathbf{Z_i} = \\frac{\\partial\\mathbf{R}(Z)}{\\partial Z^i}$$\n",
    "\n",
    "observe how we apply this definition using differentiation in sympy"
   ]
  },
  {
   "cell_type": "code",
   "execution_count": 119,
   "metadata": {},
   "outputs": [
    {
     "data": {
      "text/latex": [
       "\\begin{align}\n",
       "\\mathbf{Z_0} = \\mathbf{Z_x} =  \\,&\\, \\left[\\begin{matrix}1 & 0\\end{matrix}\\right]\\\\ \n",
       "\\mathbf{Z_1} = \\mathbf{Z_y} =  \\,&\\, \\left[\\begin{matrix}0 & 1\\end{matrix}\\right]\\\\ \n",
       " \\,&\\, \\\\ \n",
       "\\mathbf{Z_{0'}} = \\mathbf{Z_{r'}} =  \\,&\\, \\left[\\begin{matrix}\\cos{\\left (\\theta \\right )} & \\sin{\\left (\\theta \\right )}\\end{matrix}\\right]\\\\ \n",
       "\\mathbf{Z_{1'}} = \\mathbf{Z_{\\theta'}} =  \\,&\\, \\left[\\begin{matrix}- r \\sin{\\left (\\theta \\right )} & r \\cos{\\left (\\theta \\right )}\\end{matrix}\\right]\\\\ \n",
       "\\end{align}"
      ],
      "text/plain": [
       "<IPython.core.display.Latex object>"
      ]
     },
     "execution_count": 119,
     "metadata": {},
     "output_type": "execute_result"
    }
   ],
   "source": [
    "Zu_i = build_covbasis(RZu, Zu)\n",
    "Zp_i = build_covbasis(RZp, Zp)\n",
    "show_latex([[\"\\mathbf{Z_%d} = \\mathbf{Z_%s} = \"%(c,Zu[c]), i] for c,i in enumerate(Zu_i)]+\n",
    "           [[\"\", \"\"]] +\n",
    "           [[\"\\mathbf{Z_{%d'}} = \\mathbf{Z_{%s'}} = \"%(c,Zp[c]), i] for c,i in enumerate(Zp_i)])"
   ]
  },
  {
   "cell_type": "markdown",
   "metadata": {},
   "source": [
    "## 3. Obtain metric tensor\n",
    "\n",
    "the **covariant metric tensor** is given by:\n",
    "\n",
    "$$Z_{ij} = \\mathbf{Z}_i \\cdot \\mathbf{Z}_j$$\n",
    "\n",
    "the **contravariant metric tensor**, $Z^{ij}$ is the matrix inverse of the **covariant metric tensor**, $Z_{ij}$ with:\n",
    "\n",
    "$$Z^{ij}Z_{jk} = \\delta^i_j$$\n",
    "\n",
    "in python notation `ZuEij` $=Z^{ij}$"
   ]
  },
  {
   "cell_type": "code",
   "execution_count": 120,
   "metadata": {},
   "outputs": [
    {
     "data": {
      "text/latex": [
       "\\begin{align}\n",
       "Z_{ij} =  \\,&\\, \\left[\\begin{matrix}1 & 0\\\\0 & 1\\end{matrix}\\right]\\\\ \n",
       "Z^{ij} =  \\,&\\, \\left[\\begin{matrix}1 & 0\\\\0 & 1\\end{matrix}\\right]\\\\ \n",
       "\\end{align}"
      ],
      "text/plain": [
       "<IPython.core.display.Latex object>"
      ]
     },
     "execution_count": 120,
     "metadata": {},
     "output_type": "execute_result"
    }
   ],
   "source": [
    "Zu_ij, ZuEij = build_metric_tesors(Zu_i)\n",
    "show_latex([[\"Z_{ij} = \", Zu_ij],\n",
    "            [\"Z^{ij} = \", ZuEij]])"
   ]
  },
  {
   "cell_type": "code",
   "execution_count": 121,
   "metadata": {},
   "outputs": [
    {
     "data": {
      "text/latex": [
       "\\begin{align}\n",
       "Z_{ij} =  \\,&\\, \\left[\\begin{matrix}1 & 0\\\\0 & r^{2}\\end{matrix}\\right]\\\\ \n",
       "Z^{ij} =  \\,&\\, \\left[\\begin{matrix}1 & 0\\\\0 & \\frac{1}{r^{2}}\\end{matrix}\\right]\\\\ \n",
       "\\end{align}"
      ],
      "text/plain": [
       "<IPython.core.display.Latex object>"
      ]
     },
     "execution_count": 121,
     "metadata": {},
     "output_type": "execute_result"
    }
   ],
   "source": [
    "Zp_ij, ZpEij = build_metric_tesors(Zp_i)\n",
    "show_latex([[\"Z_{ij} = \", Zp_ij],\n",
    "            [\"Z^{ij} = \", ZpEij]])"
   ]
  },
  {
   "cell_type": "markdown",
   "metadata": {},
   "source": [
    "### 4. Set up the transformation equations between $Z'$ and $Z$"
   ]
  },
  {
   "cell_type": "code",
   "execution_count": 122,
   "metadata": {},
   "outputs": [],
   "source": [
    "fZu = RZp\n",
    "fZp = sy.Matrix([sy.sqrt(x**2+y**2), sy.atan2(y,x)]).T"
   ]
  },
  {
   "cell_type": "code",
   "execution_count": 123,
   "metadata": {},
   "outputs": [
    {
     "data": {
      "text/latex": [
       "\\begin{align}\n",
       "Z^i(Z'): \\,&\\, \\\\ \n",
       "&x{\\left (\\left[\\begin{matrix}r & \\theta\\end{matrix}\\right] \\right )}= \\,&\\, r \\cos{\\left (\\theta \\right )}\\\\ \n",
       "&y{\\left (\\left[\\begin{matrix}r & \\theta\\end{matrix}\\right] \\right )}= \\,&\\, r \\sin{\\left (\\theta \\right )}\\\\ \n",
       "\\end{align}"
      ],
      "text/plain": [
       "<IPython.core.display.Latex object>"
      ]
     },
     "execution_count": 123,
     "metadata": {},
     "output_type": "execute_result"
    }
   ],
   "source": [
    "show_latex([[\"Z^i(Z'):\", \"\"]]+[[\"&\"+sy.latex(a(sy.Matrix(Zp).T))+\"=\",b] for a,b in zip(Zu, fZu)])"
   ]
  },
  {
   "cell_type": "code",
   "execution_count": 124,
   "metadata": {},
   "outputs": [
    {
     "data": {
      "text/latex": [
       "\\begin{align}\n",
       "Z'^i(Z): \\,&\\, \\\\ \n",
       "&r{\\left (\\left[\\begin{matrix}x & y\\end{matrix}\\right] \\right )}= \\,&\\, \\sqrt{x^{2} + y^{2}}\\\\ \n",
       "&\\theta{\\left (\\left[\\begin{matrix}x & y\\end{matrix}\\right] \\right )}= \\,&\\, \\operatorname{atan_{2}}{\\left (y,x \\right )}\\\\ \n",
       "\\end{align}"
      ],
      "text/plain": [
       "<IPython.core.display.Latex object>"
      ]
     },
     "execution_count": 124,
     "metadata": {},
     "output_type": "execute_result"
    }
   ],
   "source": [
    "show_latex([[\"Z'^i(Z):\", \"\"]]+[[\"&\"+sy.latex(a(sy.Matrix(Zu).T))+\"=\",b] for a,b in zip(Zp, fZp)])"
   ]
  },
  {
   "cell_type": "markdown",
   "metadata": {},
   "source": [
    "check transformation eqs are inverse relations"
   ]
  },
  {
   "cell_type": "code",
   "execution_count": 125,
   "metadata": {},
   "outputs": [],
   "source": [
    "_fZp = sy.lambdify(Zu, fZp, \"numpy\")\n",
    "_fZu = sy.lambdify(Zp, fZu, \"numpy\")"
   ]
  },
  {
   "cell_type": "code",
   "execution_count": 126,
   "metadata": {},
   "outputs": [
    {
     "name": "stdout",
     "output_type": "stream",
     "text": [
      "[ 0.72167471  0.66156887]\n",
      "[ 0.72167471  0.66156887]\n"
     ]
    }
   ],
   "source": [
    "n = np.random.random(size=len(Zu))\n",
    "print n\n",
    "print _fZu(*_fZp(*n)[0])[0]"
   ]
  },
  {
   "cell_type": "code",
   "execution_count": 127,
   "metadata": {},
   "outputs": [
    {
     "name": "stdout",
     "output_type": "stream",
     "text": [
      "[ 0.2170137   0.71202645]\n",
      "[ 0.2170137   0.71202645]\n"
     ]
    }
   ],
   "source": [
    "n = np.random.random(size=len(Zu))\n",
    "print n\n",
    "print _fZp(*_fZu(*n)[0])[0]"
   ]
  },
  {
   "cell_type": "markdown",
   "metadata": {},
   "source": [
    "### 5. Obtain the Jacobians (optional)"
   ]
  },
  {
   "cell_type": "code",
   "execution_count": 128,
   "metadata": {},
   "outputs": [],
   "source": [
    "Jp = sy.Matrix(fZu).jacobian(Zp)\n",
    "Ju = sy.Matrix(fZp).jacobian(Zu)"
   ]
  },
  {
   "cell_type": "code",
   "execution_count": 129,
   "metadata": {},
   "outputs": [
    {
     "data": {
      "text/latex": [
       "\\begin{align}\n",
       "J(Z)=J\\left[\\begin{matrix}x & y\\end{matrix}\\right]= \\,&\\, \\left[\\begin{matrix}\\frac{x}{\\sqrt{x^{2} + y^{2}}} & \\frac{y}{\\sqrt{x^{2} + y^{2}}}\\\\- \\frac{y}{x^{2} + y^{2}} & \\frac{x}{x^{2} + y^{2}}\\end{matrix}\\right]\\\\ \n",
       "\\end{align}"
      ],
      "text/plain": [
       "<IPython.core.display.Latex object>"
      ]
     },
     "execution_count": 129,
     "metadata": {},
     "output_type": "execute_result"
    }
   ],
   "source": [
    "show_latex([[\"J(Z)=J\"+sy.latex(sy.Matrix(Zu).T)+\"=\", Ju]])"
   ]
  },
  {
   "cell_type": "code",
   "execution_count": 130,
   "metadata": {},
   "outputs": [
    {
     "data": {
      "text/latex": [
       "\\begin{align}\n",
       "J'(Z')=J'\\left[\\begin{matrix}r & \\theta\\end{matrix}\\right]= \\,&\\, \\left[\\begin{matrix}\\cos{\\left (\\theta \\right )} & - r \\sin{\\left (\\theta \\right )}\\\\\\sin{\\left (\\theta \\right )} & r \\cos{\\left (\\theta \\right )}\\end{matrix}\\right]\\\\ \n",
       "\\end{align}"
      ],
      "text/plain": [
       "<IPython.core.display.Latex object>"
      ]
     },
     "execution_count": 130,
     "metadata": {},
     "output_type": "execute_result"
    }
   ],
   "source": [
    "show_latex([[\"J'(Z')=J'\"+sy.latex(sy.Matrix(Zp).T)+\"=\", Jp]])"
   ]
  },
  {
   "cell_type": "markdown",
   "metadata": {},
   "source": [
    "check jacobians multiplied result in the identity"
   ]
  },
  {
   "cell_type": "code",
   "execution_count": 131,
   "metadata": {},
   "outputs": [
    {
     "data": {
      "text/latex": [
       "$$\\left[\\begin{matrix}1 & 0\\\\0 & 1\\end{matrix}\\right]$$"
      ],
      "text/plain": [
       "⎡1  0⎤\n",
       "⎢    ⎥\n",
       "⎣0  1⎦"
      ]
     },
     "execution_count": 131,
     "metadata": {},
     "output_type": "execute_result"
    }
   ],
   "source": [
    "k = (Ju*Jp).subs({a:b for a,b in zip(Zp, fZp)}).subs({i:1 for i in Zu})\n",
    "k.simplify()\n",
    "k"
   ]
  },
  {
   "cell_type": "markdown",
   "metadata": {},
   "source": [
    "### 6. Define scalar function and compute gradient\n",
    "\n",
    "$F(Z)$: the scalar function\n",
    "\n",
    "$$\\nabla F = \\frac{\\partial F(Z)}{\\partial Z^i}Z^{ij}\\mathbf{Z}_j = \\nabla F_i Z^{ij}\\mathbf{Z}_j$$\n"
   ]
  },
  {
   "cell_type": "code",
   "execution_count": 137,
   "metadata": {},
   "outputs": [
    {
     "data": {
      "text/latex": [
       "\\begin{align}\n",
       "F\\left[\\begin{matrix}x & y\\end{matrix}\\right]= \\,&\\, x^{2} + y^{2}\\\\ \n",
       "\\end{align}"
      ],
      "text/plain": [
       "<IPython.core.display.Latex object>"
      ]
     },
     "execution_count": 137,
     "metadata": {},
     "output_type": "execute_result"
    }
   ],
   "source": [
    "s = sum([i**2 for i in Zu])\n",
    "show_latex([[\"F\"+sy.latex(sy.Matrix(Zu).T)+\"=\", s]])"
   ]
  },
  {
   "cell_type": "code",
   "execution_count": 138,
   "metadata": {},
   "outputs": [
    {
     "data": {
      "text/latex": [
       "$$\\left[\\begin{matrix}2 x\\\\2 y\\end{matrix}\\right]$$"
      ],
      "text/plain": [
       "⎡2⋅x⎤\n",
       "⎢   ⎥\n",
       "⎣2⋅y⎦"
      ]
     },
     "execution_count": 138,
     "metadata": {},
     "output_type": "execute_result"
    }
   ],
   "source": [
    "ig = build_invariant_gradient(s, Zu, Zu_i, ZuEij)\n",
    "ig"
   ]
  },
  {
   "cell_type": "markdown",
   "metadata": {},
   "source": [
    "now with the unprimed basis, the same function expressed in terms of the unprimed basis via the primed basis\n",
    "\n",
    "$$F(Z´)=F(Z(Z'))$$"
   ]
  },
  {
   "cell_type": "code",
   "execution_count": 139,
   "metadata": {},
   "outputs": [
    {
     "data": {
      "text/latex": [
       "\\begin{align}\n",
       "F\\left[\\begin{matrix}r & \\theta\\end{matrix}\\right]= \\,&\\, r^{2} \\sin^{2}{\\left (\\theta \\right )} + r^{2} \\cos^{2}{\\left (\\theta \\right )}\\\\ \n",
       "\\end{align}"
      ],
      "text/plain": [
       "<IPython.core.display.Latex object>"
      ]
     },
     "execution_count": 139,
     "metadata": {},
     "output_type": "execute_result"
    }
   ],
   "source": [
    "s = sum([i**2 for i in fZu])\n",
    "show_latex([[\"F\"+sy.latex(sy.Matrix(Zp).T)+\"=\", s]])"
   ]
  },
  {
   "cell_type": "code",
   "execution_count": 140,
   "metadata": {},
   "outputs": [
    {
     "data": {
      "text/latex": [
       "$$\\left[\\begin{matrix}2 r \\cos{\\left (\\theta \\right )}\\\\2 r \\sin{\\left (\\theta \\right )}\\end{matrix}\\right]$$"
      ],
      "text/plain": [
       "⎡2⋅r⋅cos(\\theta)⎤\n",
       "⎢               ⎥\n",
       "⎣2⋅r⋅sin(\\theta)⎦"
      ]
     },
     "execution_count": 140,
     "metadata": {},
     "output_type": "execute_result"
    }
   ],
   "source": [
    "ig = build_invariant_gradient(s, Zp, Zp_i, ZpEij)\n",
    "ig"
   ]
  },
  {
   "cell_type": "markdown",
   "metadata": {},
   "source": [
    "and with the corresponding coordinate transformation now looks exactly as above"
   ]
  },
  {
   "cell_type": "code",
   "execution_count": 141,
   "metadata": {},
   "outputs": [
    {
     "data": {
      "text/latex": [
       "$$\\left[\\begin{matrix}2 x\\\\2 y\\end{matrix}\\right]$$"
      ],
      "text/plain": [
       "⎡2⋅x⎤\n",
       "⎢   ⎥\n",
       "⎣2⋅y⎦"
      ]
     },
     "execution_count": 141,
     "metadata": {},
     "output_type": "execute_result"
    }
   ],
   "source": [
    "ig.subs({b:a for a,b in zip(Zu, fZu)})"
   ]
  },
  {
   "cell_type": "markdown",
   "metadata": {},
   "source": [
    "### In 3D cartesian and spherical coords"
   ]
  },
  {
   "cell_type": "code",
   "execution_count": 83,
   "metadata": {},
   "outputs": [
    {
     "data": {
      "text/latex": [
       "\\begin{align}\n",
       "Z^i(Z'): \\,&\\, \\\\ \n",
       "&x{\\left (\\left[\\begin{matrix}r & \\theta & \\phi\\end{matrix}\\right] \\right )}= \\,&\\, r \\sin{\\left (\\theta \\right )} \\cos{\\left (\\phi \\right )}\\\\ \n",
       "&y{\\left (\\left[\\begin{matrix}r & \\theta & \\phi\\end{matrix}\\right] \\right )}= \\,&\\, r \\sin{\\left (\\phi \\right )} \\sin{\\left (\\theta \\right )}\\\\ \n",
       "&z{\\left (\\left[\\begin{matrix}r & \\theta & \\phi\\end{matrix}\\right] \\right )}= \\,&\\, r \\cos{\\left (\\theta \\right )}\\\\ \n",
       "\\end{align}"
      ],
      "text/plain": [
       "<IPython.core.display.Latex object>"
      ]
     },
     "execution_count": 83,
     "metadata": {},
     "output_type": "execute_result"
    }
   ],
   "source": [
    "\n",
    "# the set of coordinates in each system and the position vector\n",
    "Zu = [x,y,z]\n",
    "Zp = [r,t,phi]\n",
    "RZu = sy.Matrix([[x,y,z]])\n",
    "RZp = sy.Matrix([[r*sy.sin(t)*sy.cos(phi), r*sy.sin(t)*sy.sin(phi), r*sy.cos(t)]])\n",
    "\n",
    "# the transformation equations\n",
    "fZu = RZp\n",
    "show_latex([[\"Z^i(Z'):\", \"\"]]+[[\"&\"+sy.latex(a(sy.Matrix(Zp).T))+\"=\",b] for a,b in zip(Zu, fZu)])"
   ]
  },
  {
   "cell_type": "markdown",
   "metadata": {},
   "source": [
    "build basis"
   ]
  },
  {
   "cell_type": "code",
   "execution_count": 84,
   "metadata": {},
   "outputs": [
    {
     "data": {
      "text/latex": [
       "\\begin{align}\n",
       "\\mathbf{Z_0} = \\mathbf{Z_x} =  \\,&\\, \\left[\\begin{matrix}1 & 0 & 0\\end{matrix}\\right]\\\\ \n",
       "\\mathbf{Z_1} = \\mathbf{Z_y} =  \\,&\\, \\left[\\begin{matrix}0 & 1 & 0\\end{matrix}\\right]\\\\ \n",
       "\\mathbf{Z_2} = \\mathbf{Z_z} =  \\,&\\, \\left[\\begin{matrix}0 & 0 & 1\\end{matrix}\\right]\\\\ \n",
       " \\,&\\, \\\\ \n",
       "\\mathbf{Z_{0'}} = \\mathbf{Z_{r'}} =  \\,&\\, \\left[\\begin{matrix}\\sin{\\left (\\theta \\right )} \\cos{\\left (\\phi \\right )} & \\sin{\\left (\\phi \\right )} \\sin{\\left (\\theta \\right )} & \\cos{\\left (\\theta \\right )}\\end{matrix}\\right]\\\\ \n",
       "\\mathbf{Z_{1'}} = \\mathbf{Z_{\\theta'}} =  \\,&\\, \\left[\\begin{matrix}r \\cos{\\left (\\phi \\right )} \\cos{\\left (\\theta \\right )} & r \\sin{\\left (\\phi \\right )} \\cos{\\left (\\theta \\right )} & - r \\sin{\\left (\\theta \\right )}\\end{matrix}\\right]\\\\ \n",
       "\\mathbf{Z_{2'}} = \\mathbf{Z_{\\phi'}} =  \\,&\\, \\left[\\begin{matrix}- r \\sin{\\left (\\phi \\right )} \\sin{\\left (\\theta \\right )} & r \\sin{\\left (\\theta \\right )} \\cos{\\left (\\phi \\right )} & 0\\end{matrix}\\right]\\\\ \n",
       "\\end{align}"
      ],
      "text/plain": [
       "<IPython.core.display.Latex object>"
      ]
     },
     "execution_count": 84,
     "metadata": {},
     "output_type": "execute_result"
    }
   ],
   "source": [
    "Zu_i = build_covbasis(RZu, Zu)\n",
    "Zp_i = build_covbasis(RZp, Zp)\n",
    "show_latex([[\"\\mathbf{Z_%d} = \\mathbf{Z_%s} = \"%(c,Zu[c]), i] for c,i in enumerate(Zu_i)]+\n",
    "           [[\"\", \"\"]] +\n",
    "           [[\"\\mathbf{Z_{%d'}} = \\mathbf{Z_{%s'}} = \"%(c,Zp[c]), i] for c,i in enumerate(Zp_i)])"
   ]
  },
  {
   "cell_type": "markdown",
   "metadata": {},
   "source": [
    "build metric tensors"
   ]
  },
  {
   "cell_type": "code",
   "execution_count": 85,
   "metadata": {},
   "outputs": [
    {
     "data": {
      "text/latex": [
       "\\begin{align}\n",
       "Z_{ij} =  \\,&\\, \\left[\\begin{matrix}1 & 0 & 0\\\\0 & 1 & 0\\\\0 & 0 & 1\\end{matrix}\\right]\\\\ \n",
       "Z^{ij} =  \\,&\\, \\left[\\begin{matrix}1 & 0 & 0\\\\0 & 1 & 0\\\\0 & 0 & 1\\end{matrix}\\right]\\\\ \n",
       "\\end{align}"
      ],
      "text/plain": [
       "<IPython.core.display.Latex object>"
      ]
     },
     "execution_count": 85,
     "metadata": {},
     "output_type": "execute_result"
    }
   ],
   "source": [
    "Zu_ij, ZuEij = build_metric_tesors(Zu_i)\n",
    "show_latex([[\"Z_{ij} = \", Zu_ij],\n",
    "            [\"Z^{ij} = \", ZuEij]])"
   ]
  },
  {
   "cell_type": "code",
   "execution_count": 93,
   "metadata": {},
   "outputs": [
    {
     "data": {
      "text/latex": [
       "\\begin{align}\n",
       "Z'_{ij} =  \\,&\\, \\left[\\begin{matrix}1 & 0 & 0\\\\0 & r^{2} & 0\\\\0 & 0 & r^{2} \\sin^{2}{\\left (\\theta \\right )}\\end{matrix}\\right]\\\\ \n",
       "Z'^{ij} =  \\,&\\, \\left[\\begin{matrix}1 & 0 & 0\\\\0 & \\frac{1}{r^{2}} & 0\\\\0 & 0 & \\frac{1}{r^{2} \\sin^{2}{\\left (\\theta \\right )}}\\end{matrix}\\right]\\\\ \n",
       "\\end{align}"
      ],
      "text/plain": [
       "<IPython.core.display.Latex object>"
      ]
     },
     "execution_count": 93,
     "metadata": {},
     "output_type": "execute_result"
    }
   ],
   "source": [
    "Zp_ij, ZpEij = build_metric_tesors(Zp_i)\n",
    "show_latex([[\"Z'_{ij} = \", Zp_ij],\n",
    "            [\"Z'^{ij} = \", ZpEij]])"
   ]
  },
  {
   "cell_type": "markdown",
   "metadata": {},
   "source": [
    "define scalar function and evaluate gradient in unprimed coords"
   ]
  },
  {
   "cell_type": "code",
   "execution_count": 94,
   "metadata": {},
   "outputs": [
    {
     "data": {
      "text/latex": [
       "\\begin{align}\n",
       "F\\left[\\begin{matrix}x & y & z\\end{matrix}\\right]= \\,&\\, x^{2} + y + z\\\\ \n",
       "\\end{align}"
      ],
      "text/plain": [
       "<IPython.core.display.Latex object>"
      ]
     },
     "execution_count": 94,
     "metadata": {},
     "output_type": "execute_result"
    }
   ],
   "source": [
    "s = Zu[0]**2+sum(Zu[1:])\n",
    "show_latex([[\"F\"+sy.latex(sy.Matrix(Zu).T)+\"=\", s]])"
   ]
  },
  {
   "cell_type": "code",
   "execution_count": 95,
   "metadata": {},
   "outputs": [
    {
     "data": {
      "text/latex": [
       "$$\\left[\\begin{matrix}2 x\\\\1\\\\1\\end{matrix}\\right]$$"
      ],
      "text/plain": [
       "⎡2⋅x⎤\n",
       "⎢   ⎥\n",
       "⎢ 1 ⎥\n",
       "⎢   ⎥\n",
       "⎣ 1 ⎦"
      ]
     },
     "execution_count": 95,
     "metadata": {},
     "output_type": "execute_result"
    }
   ],
   "source": [
    "ig = build_invariant_gradient(s, Zu, Zu_i, ZuEij)\n",
    "ig"
   ]
  },
  {
   "cell_type": "markdown",
   "metadata": {},
   "source": [
    "define scalar function and evaluate gradient in primed coords"
   ]
  },
  {
   "cell_type": "code",
   "execution_count": 96,
   "metadata": {},
   "outputs": [
    {
     "data": {
      "text/latex": [
       "\\begin{align}\n",
       "F\\left[\\begin{matrix}r & \\theta & \\phi\\end{matrix}\\right]= \\,&\\, r^{2} \\sin^{2}{\\left (\\theta \\right )} \\cos^{2}{\\left (\\phi \\right )} + r \\sin{\\left (\\phi \\right )} \\sin{\\left (\\theta \\right )} + r \\cos{\\left (\\theta \\right )}\\\\ \n",
       "\\end{align}"
      ],
      "text/plain": [
       "<IPython.core.display.Latex object>"
      ]
     },
     "execution_count": 96,
     "metadata": {},
     "output_type": "execute_result"
    }
   ],
   "source": [
    "s = fZu[0]**2+sum(fZu[1:])\n",
    "show_latex([[\"F\"+sy.latex(sy.Matrix(Zp).T)+\"=\", s]])"
   ]
  },
  {
   "cell_type": "code",
   "execution_count": 97,
   "metadata": {},
   "outputs": [
    {
     "data": {
      "text/latex": [
       "$$\\left[\\begin{matrix}2 r \\sin{\\left (\\theta \\right )} \\cos{\\left (\\phi \\right )}\\\\1\\\\1\\end{matrix}\\right]$$"
      ],
      "text/plain": [
       "⎡2⋅r⋅sin(\\theta)⋅cos(\\phi)⎤\n",
       "⎢                         ⎥\n",
       "⎢            1            ⎥\n",
       "⎢                         ⎥\n",
       "⎣            1            ⎦"
      ]
     },
     "execution_count": 97,
     "metadata": {},
     "output_type": "execute_result"
    }
   ],
   "source": [
    "ig = build_invariant_gradient(s, Zp, Zp_i, ZpEij)\n",
    "ig"
   ]
  },
  {
   "cell_type": "markdown",
   "metadata": {},
   "source": [
    "and with the corresponding substitution we get the exact same components for the gradient vector"
   ]
  },
  {
   "cell_type": "code",
   "execution_count": 99,
   "metadata": {},
   "outputs": [
    {
     "data": {
      "text/latex": [
       "$$\\left[\\begin{matrix}2 x\\\\1\\\\1\\end{matrix}\\right]$$"
      ],
      "text/plain": [
       "⎡2⋅x⎤\n",
       "⎢   ⎥\n",
       "⎢ 1 ⎥\n",
       "⎢   ⎥\n",
       "⎣ 1 ⎦"
      ]
     },
     "execution_count": 99,
     "metadata": {},
     "output_type": "execute_result"
    }
   ],
   "source": [
    "ig.subs({b:a for a,b in zip(Zu, fZu)})"
   ]
  },
  {
   "cell_type": "markdown",
   "metadata": {},
   "source": [
    "### shear transformation (helsinki grid)"
   ]
  },
  {
   "cell_type": "code",
   "execution_count": 117,
   "metadata": {},
   "outputs": [
    {
     "data": {
      "text/latex": [
       "\\begin{align}\n",
       "Z^i(Z'): \\,&\\, \\\\ \n",
       "&x{\\left (\\left[\\begin{matrix}v & w\\end{matrix}\\right] \\right )}= \\,&\\, 2 v\\\\ \n",
       "&y{\\left (\\left[\\begin{matrix}v & w\\end{matrix}\\right] \\right )}= \\,&\\, 3 w\\\\ \n",
       "covariant\\; basis: \\,&\\, \\\\ \n",
       "\\mathbf{Z_0} = \\mathbf{Z_x} =  \\,&\\, \\left[\\begin{matrix}1 & 0 & 0\\end{matrix}\\right]\\\\ \n",
       "\\mathbf{Z_1} = \\mathbf{Z_y} =  \\,&\\, \\left[\\begin{matrix}0 & 1 & 0\\end{matrix}\\right]\\\\ \n",
       " \\,&\\, \\\\ \n",
       "\\mathbf{Z_{0'}} = \\mathbf{Z_{v'}} =  \\,&\\, \\left[\\begin{matrix}2 & 0\\end{matrix}\\right]\\\\ \n",
       "\\mathbf{Z_{1'}} = \\mathbf{Z_{w'}} =  \\,&\\, \\left[\\begin{matrix}0 & 3\\end{matrix}\\right]\\\\ \n",
       " \\,&\\, \\\\ \n",
       "metric\\;tensors \\,&\\, (covariant\\;contravariant\\;primed\\;unprimed)\\\\ \n",
       "Z_{ij} =  \\,&\\, \\left[\\begin{matrix}1 & 0\\\\0 & 1\\end{matrix}\\right]\\\\ \n",
       "Z^{ij} =  \\,&\\, \\left[\\begin{matrix}1 & 0\\\\0 & 1\\end{matrix}\\right]\\\\ \n",
       "Z'_{ij} =  \\,&\\, \\left[\\begin{matrix}4 & 0\\\\0 & 9\\end{matrix}\\right]\\\\ \n",
       "Z'^{ij} =  \\,&\\, \\left[\\begin{matrix}\\frac{1}{4} & 0\\\\0 & \\frac{1}{9}\\end{matrix}\\right]\\\\ \n",
       " \\,&\\, \\\\ \n",
       "scalar\\;function \\,&\\, in\\;unprimed\\;system\\\\ \n",
       "F\\left[\\begin{matrix}x & y\\end{matrix}\\right]= \\,&\\, x^{2} + y\\\\ \n",
       "gradient \\,&\\, \\left[\\begin{matrix}2 x\\\\1\\\\0\\end{matrix}\\right]\\\\ \n",
       "\\end{align}"
      ],
      "text/plain": [
       "<IPython.core.display.Latex object>"
      ]
     },
     "execution_count": 117,
     "metadata": {},
     "output_type": "execute_result"
    }
   ],
   "source": [
    "# the set of coordinates in each system and the position vector\n",
    "v,w = sy.symbols(\"v w\")\n",
    "\n",
    "Zu = [x,y]\n",
    "Zp = [v,w]\n",
    "RZu = sy.Matrix([[x,y,z]])\n",
    "RZp = sy.Matrix([[2*v, 3*w]])\n",
    "\n",
    "# the transformation equations\n",
    "fZu = RZp\n",
    "\n",
    "latex = [[\"Z^i(Z'):\", \"\"]]+[[\"&\"+sy.latex(a(sy.Matrix(Zp).T))+\"=\",b] for a,b in zip(Zu, fZu)]\n",
    "\n",
    "Zu_i = build_covbasis(RZu, Zu)\n",
    "Zp_i = build_covbasis(RZp, Zp)\n",
    "\n",
    "latex +=   [[\"covariant\\; basis:\", \"\"]]+\\\n",
    "           [[\"\\mathbf{Z_%d} = \\mathbf{Z_%s} = \"%(c,Zu[c]), i] for c,i in enumerate(Zu_i)]+\\\n",
    "           [[\"\", \"\"]] +\\\n",
    "           [[\"\\mathbf{Z_{%d'}} = \\mathbf{Z_{%s'}} = \"%(c,Zp[c]), i] for c,i in enumerate(Zp_i)]\n",
    "\n",
    "            \n",
    "Zu_ij, ZuEij = build_metric_tesors(Zu_i)\n",
    "latex += [[\"\", \"\"], [\"metric\\;tensors\", \"(covariant\\;contravariant\\;primed\\;unprimed)\"]]\n",
    "latex += [[\"Z_{ij} = \", Zu_ij], [\"Z^{ij} = \", ZuEij]]\n",
    "\n",
    "Zp_ij, ZpEij = build_metric_tesors(Zp_i)\n",
    "latex += [[\"Z'_{ij} = \", Zp_ij], [\"Z'^{ij} = \", ZpEij]]\n",
    "\n",
    "s = Zu[0]**2+sum(Zu[1:])\n",
    "ig = build_invariant_gradient(s, Zu, Zu_i, ZuEij)\n",
    "latex += [[\"\", \"\"],[\"scalar\\;function\", \"in\\;unprimed\\;system\"]]\n",
    "latex += [[\"F\"+sy.latex(sy.Matrix(Zu).T)+\"=\", s]]\n",
    "latex += [[\"gradient\", ig]]\n",
    "show_latex(latex)"
   ]
  },
  {
   "cell_type": "code",
   "execution_count": 111,
   "metadata": {},
   "outputs": [
    {
     "data": {
      "text/latex": [
       "\\begin{align}\n",
       "Z^i(Z'): \\,&\\, \\\\ \n",
       "&x{\\left (\\left[\\begin{matrix}v & w\\end{matrix}\\right] \\right )}= \\,&\\, v + 0.5 w\\\\ \n",
       "&y{\\left (\\left[\\begin{matrix}v & w\\end{matrix}\\right] \\right )}= \\,&\\, 2 v + w\\\\ \n",
       "convariant\\; basis: \\,&\\, \\\\ \n",
       "\\mathbf{Z_0} = \\mathbf{Z_x} =  \\,&\\, \\left[\\begin{matrix}1 & 0 & 0\\end{matrix}\\right]\\\\ \n",
       "\\mathbf{Z_1} = \\mathbf{Z_y} =  \\,&\\, \\left[\\begin{matrix}0 & 1 & 0\\end{matrix}\\right]\\\\ \n",
       " \\,&\\, \\\\ \n",
       "\\mathbf{Z_{0'}} = \\mathbf{Z_{v'}} =  \\,&\\, \\left[\\begin{matrix}1 & 2\\end{matrix}\\right]\\\\ \n",
       "\\mathbf{Z_{1'}} = \\mathbf{Z_{w'}} =  \\,&\\, \\left[\\begin{matrix}0.5 & 1\\end{matrix}\\right]\\\\ \n",
       "\\end{align}"
      ],
      "text/plain": [
       "<IPython.core.display.Latex object>"
      ]
     },
     "execution_count": 111,
     "metadata": {},
     "output_type": "execute_result"
    }
   ],
   "source": [
    "show_latex(latex)"
   ]
  },
  {
   "cell_type": "code",
   "execution_count": null,
   "metadata": {},
   "outputs": [],
   "source": []
  }
 ],
 "metadata": {
  "kernelspec": {
   "display_name": "Python 2",
   "language": "python",
   "name": "python2"
  },
  "language_info": {
   "codemirror_mode": {
    "name": "ipython",
    "version": 2
   },
   "file_extension": ".py",
   "mimetype": "text/x-python",
   "name": "python",
   "nbconvert_exporter": "python",
   "pygments_lexer": "ipython2",
   "version": "2.7.14"
  }
 },
 "nbformat": 4,
 "nbformat_minor": 2
}
